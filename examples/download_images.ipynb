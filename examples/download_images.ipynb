{
 "cells": [
  {
   "cell_type": "code",
   "execution_count": null,
   "id": "0a41b6c1",
   "metadata": {},
   "outputs": [],
   "source": [
    "import json\n",
    "import pandas as pd\n",
    "import pathlib\n",
    "import boto3\n",
    "from botocore.client import Config\n",
    "import tomllib"
   ]
  },
  {
   "cell_type": "code",
   "execution_count": 3,
   "id": "64982c21",
   "metadata": {},
   "outputs": [],
   "source": [
    "export_file = pathlib.Path(r\"C:\\code_ibre\\load-simpla-annotations\\data\\ai_assisted\\20250813\\stand_2025-08-13.json\")\n",
    "image_dir = pathlib.Path(r\"C:\\code_ibre\\load-simpla-annotations\\data\\ai_assisted\\20250813\\images\")"
   ]
  },
  {
   "cell_type": "code",
   "execution_count": 18,
   "id": "c9ca9f5d",
   "metadata": {},
   "outputs": [],
   "source": [
    "config = tomllib.load(open(\"../config.toml\", \"rb\"))"
   ]
  },
  {
   "cell_type": "code",
   "execution_count": null,
   "id": "cbd3de72",
   "metadata": {},
   "outputs": [],
   "source": [
    "access_key = config.get(\"s3-connection\").get(\"access_key\")\n",
    "secret_key = config.get(\"s3-connection\").get(\"secret_key\")\n",
    "endpoint_url = config.get(\"s3-connection\").get(\"endpoint_url\")\n",
    "\n",
    "if not all([access_key, secret_key, endpoint_url]):\n",
    "    raise ValueError(\"Missing S3 configuration in config.toml\")\n",
    "\n",
    "s3_client = boto3.client(\n",
    "    \"s3\",\n",
    "    aws_access_key_id=access_key,\n",
    "    aws_secret_access_key=secret_key,\n",
    "    endpoint_url=endpoint_url,\n",
    "    config=Config(region_name=\"ch-dk-2\",signature_version=\"s3\"),\n",
    ")"
   ]
  },
  {
   "cell_type": "code",
   "execution_count": 6,
   "id": "a4176a3d",
   "metadata": {},
   "outputs": [],
   "source": [
    "with open(export_file, \"r\") as f:\n",
    "    labels = json.load(f)"
   ]
  },
  {
   "cell_type": "code",
   "execution_count": 7,
   "id": "7157875d",
   "metadata": {},
   "outputs": [],
   "source": [
    "df_labels = pd.DataFrame(labels)"
   ]
  },
  {
   "cell_type": "code",
   "execution_count": 8,
   "id": "4871b4cb",
   "metadata": {},
   "outputs": [],
   "source": [
    "for data in df_labels[\"data\"]:\n",
    "    image_url = data.get(\"image\")\n",
    "    if image_url is not None:\n",
    "        image_path = pathlib.Path.joinpath(image_dir, image_url.split(\"/\")[-1])\n",
    "        if image_path.exists():\n",
    "            continue\n",
    "\n",
    "        s3_client.download_file(\n",
    "            Bucket=\"simpla-gruen-source\",\n",
    "            Key=image_url.split(\"/\")[-1],\n",
    "            Filename=str(image_path)\n",
    "        )"
   ]
  }
 ],
 "metadata": {
  "kernelspec": {
   "display_name": "load-simpla-annotations (3.13.3)",
   "language": "python",
   "name": "python3"
  },
  "language_info": {
   "codemirror_mode": {
    "name": "ipython",
    "version": 3
   },
   "file_extension": ".py",
   "mimetype": "text/x-python",
   "name": "python",
   "nbconvert_exporter": "python",
   "pygments_lexer": "ipython3",
   "version": "3.13.3"
  }
 },
 "nbformat": 4,
 "nbformat_minor": 5
}
